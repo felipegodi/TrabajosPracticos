{
 "cells": [
  {
   "cell_type": "code",
   "execution_count": 8,
   "id": "6acdef4a",
   "metadata": {},
   "outputs": [],
   "source": [
    "#!/usr/bin/env python\n",
    "\n",
    "# make sure to install these packages before running:\n",
    "# pip install pandas\n",
    "# pip install sodapy\n",
    "\n",
    "import pandas as pd\n",
    "from sodapy import Socrata\n",
    "import os\n",
    "os.chdir(r\"C:\\Users\\felip\\Documents\\UdeSA\\Maestría\\Herramientas computacionales\\Python\\Scrapping\\Hospitales\")\n",
    "# Unauthenticated client only works with public data sets. Note 'None'\n",
    "# in place of application token, and no username or password:\n",
    "# client = Socrata(\"odn.data.socrata.com\", None)\n",
    "\n",
    "# Example authenticated client (needed for non-public datasets):\n",
    "client = Socrata(\"health.data.ny.gov\",\n",
    "                 \"nColKKrqJghxr2dgibNZm6W49\",\n",
    "                 username=\"seminarioseconomia@udesa.edu.ar\",\n",
    "                 password=\"EconUdesa2020+\")\n",
    "\n",
    "# First 2000 results, returned as JSON from API / converted to Python list of\n",
    "# dictionaries by sodapy.\n",
    "identifier_list=(\"u4ud-w55t\",\"pyhr-5eas\",\"mtfm-rxf4\",\"q6hk-esrj\",\"rmwa-zns4\",\"npsr-cm47\",\"gnzp-ekau\",\"82xm-y6g8\",\"22g3-z7e7\",\"3m9u-ws8e\",\"9ix8-j96h\",\"mpue-vn67\",\"876q-xdbe\",\"wqxw-9f5x\",\"6wke-9zsb\",\"4ep6-xmju\",\"gaf8-ac33\",\"tsg2-5hds\")\n",
    "\n",
    "\n",
    "for identifier in identifier_list:\n",
    "    try:\n",
    "        results = client.get(identifier, limit=2000)\n",
    "        # Convert to pandas DataFrame\n",
    "        results_df = pd.DataFrame.from_records(results)\n",
    "\n",
    "        results_df.to_csv(\"./\"+ identifier +\".csv\", header=True, index=False)\n",
    "    except:\n",
    "        pass"
   ]
  }
 ],
 "metadata": {
  "kernelspec": {
   "display_name": "Python 3 (ipykernel)",
   "language": "python",
   "name": "python3"
  },
  "language_info": {
   "codemirror_mode": {
    "name": "ipython",
    "version": 3
   },
   "file_extension": ".py",
   "mimetype": "text/x-python",
   "name": "python",
   "nbconvert_exporter": "python",
   "pygments_lexer": "ipython3",
   "version": "3.8.8"
  }
 },
 "nbformat": 4,
 "nbformat_minor": 5
}
