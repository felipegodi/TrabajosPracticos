{
 "cells": [
  {
   "cell_type": "code",
   "execution_count": null,
   "id": "3520aaff",
   "metadata": {},
   "outputs": [],
   "source": [
    "import pandas as pd\n",
    "import numpy as np"
   ]
  },
  {
   "cell_type": "code",
   "execution_count": null,
   "id": "8197b7ca",
   "metadata": {},
   "outputs": [],
   "source": [
    "#1.leer el archivo csv “tarea” y mostrar las primeras 5 filas (.head()).\n",
    "\n",
    "data = pd.read_csv(\"tarea.csv\")\n",
    "data.head()"
   ]
  },
  {
   "cell_type": "code",
   "execution_count": null,
   "id": "ec0a86c9",
   "metadata": {
    "scrolled": true
   },
   "outputs": [],
   "source": [
    "#2.leer el archivo csv “tarea” y mostrar las primeras 3 filas (,nrows=3).\n",
    "\n",
    "data[0:3]"
   ]
  },
  {
   "cell_type": "code",
   "execution_count": null,
   "id": "a7f303d8",
   "metadata": {
    "scrolled": true
   },
   "outputs": [],
   "source": [
    "#3.Imprime el contenido de una columna como serie (tan sólo imprimí la columna entre corchetes!)\n",
    "#No la entiendo mucho esta consigna\n",
    "\n",
    "data.iloc[:,0]"
   ]
  },
  {
   "cell_type": "code",
   "execution_count": null,
   "id": "adeb47c0",
   "metadata": {},
   "outputs": [],
   "source": [
    "#Probé con esto, pero genera lo mismo que usar iloc. No entiendo qué quiere decir con \"imprimirla entre corchetes\"\n",
    "df = pd.Series(data['cut'])\n",
    "df"
   ]
  },
  {
   "cell_type": "code",
   "execution_count": null,
   "id": "d89910a8",
   "metadata": {},
   "outputs": [],
   "source": [
    "#4.crear una nueva serie 'calidad-color' (utilizá corchetes para definir el nombre de la serie).\n",
    "#Esta tampoco la entiendo del todo\n",
    "\n",
    "data[\"calidad-color\"] = data[\"cut\"] + \"-\" + data[\"color\"]\n",
    "data"
   ]
  },
  {
   "cell_type": "code",
   "execution_count": null,
   "id": "c6f43374",
   "metadata": {},
   "outputs": [],
   "source": [
    "#5.encontrar el número de filas y columnas (.shape)) y el tipo de datos de cada columna (.dtypes).\n",
    "\n",
    "data.shape #Acá le pido el número de filas y columnas"
   ]
  },
  {
   "cell_type": "code",
   "execution_count": null,
   "id": "ec3178de",
   "metadata": {
    "scrolled": false
   },
   "outputs": [],
   "source": [
    "data.dtypes #Acá le pido el type de cada columna. No entiendo pq cuando pongo las dos en una misma\n",
    "            # cell se cancelan los comandos."
   ]
  },
  {
   "cell_type": "code",
   "execution_count": null,
   "id": "e3e42c5d",
   "metadata": {},
   "outputs": [],
   "source": [
    "#6.resumir sólo las columnas 'objeto' (.describe(include=['object'])).\n",
    "\n",
    "data.describe(include=[\"object\"]) #Pido la descripción de todas las columnas que tengan el type objeto"
   ]
  },
  {
   "cell_type": "code",
   "execution_count": null,
   "id": "ba13bd3b",
   "metadata": {},
   "outputs": [],
   "source": [
    "#7.renombrar dos de las columnas (.rename(columns={…}). \n",
    "#Imprimir antes y después incluyendo una línea que describa cada una (ej print(\"Original\"))\n",
    "\n",
    "data_original = data.copy() #Hago una copia del original\n",
    "data.rename(columns={\"clarity\":\"claridad\", \"price\":\"precio\"}, inplace = True) #Cambio el nombre de dos columnas\n",
    "print(\"Columnas renombradas\")\n",
    "data.head(1)"
   ]
  },
  {
   "cell_type": "code",
   "execution_count": null,
   "id": "5e3c0865",
   "metadata": {},
   "outputs": [],
   "source": [
    "print(\"Columnas con nombres originales\")\n",
    "data_original.head(1)"
   ]
  },
  {
   "cell_type": "code",
   "execution_count": null,
   "id": "b9daa95b",
   "metadata": {
    "scrolled": true
   },
   "outputs": [],
   "source": [
    "#8.eliminar la segunda y tercer columna (.drop()).\n",
    "\n",
    "data.drop(columns = [\"cut\", \"color\"]) #No me cambia el df, si le pongo \", inplace = True\" sí."
   ]
  },
  {
   "cell_type": "code",
   "execution_count": null,
   "id": "2310a47c",
   "metadata": {
    "scrolled": true
   },
   "outputs": [],
   "source": [
    "#9.eliminar múltiples filas a la vez (usar axis=0 que se refiere a las filas). \n",
    "\n",
    "data.drop([502,1708,91], axis = 0) #No me cambia el df, si le pongo \", inplace = True\" sí."
   ]
  },
  {
   "cell_type": "code",
   "execution_count": null,
   "id": "8b612e93",
   "metadata": {},
   "outputs": [],
   "source": [
    "#10.ordenar la columna `cut’ en orden ascendente (tarea.cut.sort_values). ¿Qué tipo de objeto es `cut’ usándolo así? \n",
    "data.sort_values(\"cut\")"
   ]
  },
  {
   "cell_type": "code",
   "execution_count": null,
   "id": "71ab1016",
   "metadata": {},
   "outputs": [],
   "source": [
    "type(data_original[\"cut\"]) #No sé si se refiere a esto con la ultima pregunta\n",
    "data.dtypes                #o a esto"
   ]
  },
  {
   "cell_type": "code",
   "execution_count": null,
   "id": "4d3fe797",
   "metadata": {
    "scrolled": true
   },
   "outputs": [],
   "source": [
    "#11.ordenar toda la base por 'carat' en orden descendente. \n",
    "data.sort_values(\n",
    "    by=\"carat\",\n",
    "    ascending=False\n",
    "    )"
   ]
  },
  {
   "cell_type": "code",
   "execution_count": null,
   "id": "2f864d9c",
   "metadata": {},
   "outputs": [],
   "source": [
    "#EXTRA: Ahora una \"cut\" en orden ascendente y \"carat\" en orden descendente:\n",
    "data.sort_values(\n",
    "    by=[\"cut\", \"carat\"],\n",
    "    ascending=[True, False]\n",
    "    )"
   ]
  },
  {
   "cell_type": "code",
   "execution_count": null,
   "id": "c6a1f84a",
   "metadata": {},
   "outputs": [],
   "source": [
    "#12.filtrar aquellas filas que x>5, y>5 y z>5.\n",
    "\n",
    "data = data[((data[\"x\"]>5) & (data[\"y\"]>5) & (data[\"z\"]>5))]\n",
    "data"
   ]
  },
  {
   "cell_type": "code",
   "execution_count": null,
   "id": "61b0c955",
   "metadata": {},
   "outputs": [],
   "source": [
    "#Reseteo el index\n",
    "data = data.reset_index()\n",
    "data = data.drop(labels=\"index\", axis=1)\n",
    "data"
   ]
  },
  {
   "cell_type": "code",
   "execution_count": null,
   "id": "ea6b6453",
   "metadata": {},
   "outputs": [],
   "source": [
    "#13.filtrar las filas para que sólo muestren `carat’ mayor a 0,4 (usar for x in tarea.carat:…)\n",
    "\n",
    "#Esta es la forma que encontré de hacerlo usando un for:\n",
    "for i in range(len(data)):\n",
    "    if data.loc[i,'carat'] < 0.4:\n",
    "        data = data.drop(labels=i, axis=0)\n",
    "#data\n",
    "\n",
    "#Pero es más fácil hacerlo usando algo parecido a la consigna anterior:\n",
    "data = data[data['carat'] > 0.4]"
   ]
  },
  {
   "cell_type": "code",
   "execution_count": null,
   "id": "955341e8",
   "metadata": {},
   "outputs": [],
   "source": [
    "#14.filtrar filas que son Premium o Ideal (tarea.cut.sin() o usar |). \n"
   ]
  },
  {
   "cell_type": "code",
   "execution_count": null,
   "id": "6b8be892",
   "metadata": {},
   "outputs": [],
   "source": [
    "#15.calcular summary statistics de  `carat’ (.describe). \n"
   ]
  },
  {
   "cell_type": "code",
   "execution_count": null,
   "id": "5b2ba877",
   "metadata": {},
   "outputs": [],
   "source": [
    "#16.calcular la media de cada columna numérica (.mean()). \n"
   ]
  },
  {
   "cell_type": "code",
   "execution_count": null,
   "id": "b615dfff",
   "metadata": {},
   "outputs": [],
   "source": [
    "#17.calcular la media del precio de cada tipo de `cut’ (tarea.groupby().price.mean()). \n"
   ]
  },
  {
   "cell_type": "code",
   "execution_count": null,
   "id": "bd5bf98e",
   "metadata": {},
   "outputs": [],
   "source": [
    "#18.calcular la cantidad, el mínimo y el máximo precio para cada `cut’ ((tarea.groupby().price.agg([]))) . \n"
   ]
  },
  {
   "cell_type": "code",
   "execution_count": null,
   "id": "49ec1124",
   "metadata": {},
   "outputs": [],
   "source": [
    "#19.mostrar los valores que puede tomar `cut’ (.unique()). \n"
   ]
  },
  {
   "cell_type": "code",
   "execution_count": null,
   "id": "28f6283d",
   "metadata": {},
   "outputs": [],
   "source": [
    "#20.contar cuántas veces aparece cada valor de `cut’ ((tarea.cut.value_counts())) \n"
   ]
  },
  {
   "cell_type": "code",
   "execution_count": null,
   "id": "ae4af5c2",
   "metadata": {},
   "outputs": [],
   "source": [
    "#21.mostrar los porcentajes de cada valor de `cut’. \n"
   ]
  },
  {
   "cell_type": "code",
   "execution_count": null,
   "id": "61b7af18",
   "metadata": {},
   "outputs": [],
   "source": [
    "#22.calcular una tabla de doble entrada con `cut’ y `color’ (pd.crosstab)\n"
   ]
  },
  {
   "cell_type": "code",
   "execution_count": null,
   "id": "af1ed41c",
   "metadata": {},
   "outputs": [],
   "source": [
    "#23.crear un histograma de ‘cut’ (.plot(kind=’hist’)). \n"
   ]
  },
  {
   "cell_type": "code",
   "execution_count": null,
   "id": "921f740f",
   "metadata": {},
   "outputs": [],
   "source": [
    "#24.crear un gráfico de barras de 'cut' . \n"
   ]
  },
  {
   "cell_type": "code",
   "execution_count": null,
   "id": "9a8c62ca",
   "metadata": {},
   "outputs": [],
   "source": [
    "#25.contar el número de missing valies en cada columna (.isnull().sum()). \n"
   ]
  },
  {
   "cell_type": "code",
   "execution_count": null,
   "id": "74d5412c",
   "metadata": {},
   "outputs": [],
   "source": [
    "#26.comprobar el número de filas y columnas y eliminarlas si falta algún valor en una fila (.dropna(how='any')).\n"
   ]
  },
  {
   "cell_type": "code",
   "execution_count": null,
   "id": "f885dc20",
   "metadata": {},
   "outputs": [],
   "source": [
    "#27.eliminar una fila si faltan todos los valores ((.dropna(how='all')). \n"
   ]
  },
  {
   "cell_type": "code",
   "execution_count": null,
   "id": "3bbccdff",
   "metadata": {},
   "outputs": [],
   "source": [
    "#28.mostrar las filas 0, 2, 5 y todas las columnas (.loc[]). \n"
   ]
  },
  {
   "cell_type": "code",
   "execution_count": null,
   "id": "04d47a21",
   "metadata": {},
   "outputs": [],
   "source": [
    "#29.mostrar las filas 0 a 2 (inclusive) y las columnas 'color' y 'precio' . \n"
   ]
  },
  {
   "cell_type": "code",
   "execution_count": null,
   "id": "4b384d7c",
   "metadata": {},
   "outputs": [],
   "source": [
    "#30.mostrar las filas en las que la 'cut' es 'Premium' más la columna 'color'. \n"
   ]
  },
  {
   "cell_type": "code",
   "execution_count": null,
   "id": "d235ae49",
   "metadata": {},
   "outputs": [],
   "source": [
    "#31.obtener 5 filas de muestra al azar (.sample()). \n"
   ]
  },
  {
   "cell_type": "code",
   "execution_count": null,
   "id": "8d0b95f3",
   "metadata": {},
   "outputs": [],
   "source": [
    "#32.obtener una muestra del 75% de las filas sin reemplazarlas (.sample(frac=0.75, random_state=XX))\n"
   ]
  },
  {
   "cell_type": "code",
   "execution_count": null,
   "id": "e662877a",
   "metadata": {},
   "outputs": [],
   "source": [
    "#33.contar las filas duplicadas."
   ]
  }
 ],
 "metadata": {
  "kernelspec": {
   "display_name": "Python 3 (ipykernel)",
   "language": "python",
   "name": "python3"
  },
  "language_info": {
   "codemirror_mode": {
    "name": "ipython",
    "version": 3
   },
   "file_extension": ".py",
   "mimetype": "text/x-python",
   "name": "python",
   "nbconvert_exporter": "python",
   "pygments_lexer": "ipython3",
   "version": "3.9.12"
  }
 },
 "nbformat": 4,
 "nbformat_minor": 5
}
