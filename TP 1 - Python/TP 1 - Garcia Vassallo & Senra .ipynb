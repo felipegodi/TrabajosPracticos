{
 "cells": [
  {
   "cell_type": "markdown",
   "id": "4fe186fc",
   "metadata": {},
   "source": [
    "### Herramientas Computacionales de Investigación: Trabajo Práctico 1    \n",
    "Felipe García Vassallo     \n",
    "Rocío Senra"
   ]
  },
  {
   "cell_type": "code",
   "execution_count": null,
   "id": "3520aaff",
   "metadata": {},
   "outputs": [],
   "source": [
    "#Importamos los paquetes que vamos a usar para resolver el trabajo.\n",
    "import pandas as pd\n",
    "import numpy as np\n",
    "import plotly.express as px"
   ]
  },
  {
   "cell_type": "markdown",
   "id": "3d0d3133",
   "metadata": {},
   "source": [
    "#### 1. Leer el archivo csv “tarea” y mostrar las primeras 5 filas `(.head())`."
   ]
  },
  {
   "cell_type": "code",
   "execution_count": null,
   "id": "8197b7ca",
   "metadata": {},
   "outputs": [],
   "source": [
    "data = pd.read_csv(\"tarea.csv\")\n",
    "data.head()"
   ]
  },
  {
   "cell_type": "markdown",
   "id": "4f86c541",
   "metadata": {},
   "source": [
    "#### 2. Leer el archivo csv “tarea” y mostrar las primeras 3 filas ```(,nrows=3)```."
   ]
  },
  {
   "cell_type": "code",
   "execution_count": null,
   "id": "ec0a86c9",
   "metadata": {
    "scrolled": true
   },
   "outputs": [],
   "source": [
    "data[0:3]"
   ]
  },
  {
   "cell_type": "markdown",
   "id": "ab0544eb",
   "metadata": {},
   "source": [
    "#### 3. Imprime el contenido de una columna como serie (tan sólo imprimí la columna entre corchetes!)"
   ]
  },
  {
   "cell_type": "code",
   "execution_count": null,
   "id": "9fad5a92",
   "metadata": {},
   "outputs": [],
   "source": [
    "data[[\"cut\"]]"
   ]
  },
  {
   "cell_type": "markdown",
   "id": "95ed29f6",
   "metadata": {},
   "source": [
    "#### 4. Crear una nueva serie 'calidad-color' (utilizá corchetes para definir el nombre de la serie)."
   ]
  },
  {
   "cell_type": "code",
   "execution_count": null,
   "id": "d89910a8",
   "metadata": {},
   "outputs": [],
   "source": [
    "data[\"calidad-color\"] = data[\"cut\"] + \"-\" + data[\"color\"]\n",
    "data"
   ]
  },
  {
   "cell_type": "markdown",
   "id": "64dc253e",
   "metadata": {},
   "source": [
    "#### 5. Encontrar el número de filas y columnas `(.shape)` y el tipo de datos de cada columna `(.dtypes)`."
   ]
  },
  {
   "cell_type": "code",
   "execution_count": null,
   "id": "c6f43374",
   "metadata": {},
   "outputs": [],
   "source": [
    "data.shape #Acá le pido el número de filas y columnas"
   ]
  },
  {
   "cell_type": "code",
   "execution_count": null,
   "id": "ec3178de",
   "metadata": {
    "scrolled": false
   },
   "outputs": [],
   "source": [
    "data.dtypes #Acá le pido el type de cada columna. "
   ]
  },
  {
   "cell_type": "markdown",
   "id": "01cd159d",
   "metadata": {},
   "source": [
    "####  6. Resumir sólo las columnas 'objeto' `(.describe(include=['object']))`."
   ]
  },
  {
   "cell_type": "code",
   "execution_count": null,
   "id": "e3e42c5d",
   "metadata": {},
   "outputs": [],
   "source": [
    "data.describe(include=[\"object\"]) #Pido la descripción de todas las columnas que tengan el type objeto"
   ]
  },
  {
   "cell_type": "markdown",
   "id": "f2368311",
   "metadata": {},
   "source": [
    "#### 7. Renombrar dos de las columnas `(.rename(columns={…})`.  \n",
    "#### Imprimir antes y después incluyendo una línea que describa cada una ej: `print(\"Original\"))`"
   ]
  },
  {
   "cell_type": "code",
   "execution_count": null,
   "id": "ba13bd3b",
   "metadata": {},
   "outputs": [],
   "source": [
    "data_original = data.copy() #Hago una copia del original\n",
    "data.rename(columns={\"clarity\":\"claridad\", \"price\":\"precio\"}, inplace = True) #Cambio el nombre de dos columnas\n",
    "print(\"Columnas renombradas\")\n",
    "data.head(1)"
   ]
  },
  {
   "cell_type": "code",
   "execution_count": null,
   "id": "5e3c0865",
   "metadata": {},
   "outputs": [],
   "source": [
    "print(\"Columnas con nombres originales\")\n",
    "data_original.head(1)"
   ]
  },
  {
   "cell_type": "markdown",
   "id": "3f6f45b7",
   "metadata": {},
   "source": [
    "#### 8. Eliminar la segunda y tercer columna `(.drop())`."
   ]
  },
  {
   "cell_type": "code",
   "execution_count": null,
   "id": "b9daa95b",
   "metadata": {
    "scrolled": true
   },
   "outputs": [],
   "source": [
    "data.drop(columns = [\"cut\", \"color\"]) #No me cambia el df, si le pongo \", inplace = True\" sí."
   ]
  },
  {
   "cell_type": "markdown",
   "id": "68461661",
   "metadata": {},
   "source": [
    "#### 9. Eliminar múltiples filas a la vez (usar `axis=0` que se refiere a las filas). "
   ]
  },
  {
   "cell_type": "code",
   "execution_count": null,
   "id": "2310a47c",
   "metadata": {
    "scrolled": true
   },
   "outputs": [],
   "source": [
    "data.drop([502,1708,91], axis = 0) #No me cambia el df, si le pongo \", inplace = True\" sí."
   ]
  },
  {
   "cell_type": "markdown",
   "id": "f74ffd7c",
   "metadata": {},
   "source": [
    "#### 10. Ordenar la columna 'cut' en orden ascendente `(tarea.cut.sort_values)`. ¿Qué tipo de objeto es 'cut' usándolo así? "
   ]
  },
  {
   "cell_type": "code",
   "execution_count": null,
   "id": "170ba297",
   "metadata": {},
   "outputs": [],
   "source": [
    "data[[\"cut\"]].sort_values(\"cut\")\n",
    "#Usándolo así 'cut' es una serie. "
   ]
  },
  {
   "cell_type": "code",
   "execution_count": null,
   "id": "ac4a4a06",
   "metadata": {},
   "outputs": [],
   "source": [
    "cut = data[[\"cut\"]].sort_values(\"cut\")\n",
    "print(\"El viejo type sería {} y el nuevo {}\".format(data.cut.dtypes, cut.cut.dtypes))"
   ]
  },
  {
   "cell_type": "markdown",
   "id": "f9649339",
   "metadata": {},
   "source": [
    "#### 11. Ordenar toda la base por 'carat' en orden descendente. "
   ]
  },
  {
   "cell_type": "code",
   "execution_count": null,
   "id": "4d3fe797",
   "metadata": {
    "scrolled": true
   },
   "outputs": [],
   "source": [
    "data.sort_values(\n",
    "    by=\"carat\",\n",
    "    ascending=False\n",
    "    )"
   ]
  },
  {
   "cell_type": "code",
   "execution_count": null,
   "id": "2f864d9c",
   "metadata": {},
   "outputs": [],
   "source": [
    "#EXTRA: Ahora una \"cut\" en orden ascendente y \"carat\" en orden descendente:\n",
    "data.sort_values(\n",
    "    by=[\"cut\", \"carat\"],\n",
    "    ascending=[True, False]\n",
    "    )"
   ]
  },
  {
   "cell_type": "markdown",
   "id": "b59ea946",
   "metadata": {},
   "source": [
    "#### 12. Filtrar aquellas filas que `x>5`, `y>5` y `z>5`."
   ]
  },
  {
   "cell_type": "code",
   "execution_count": null,
   "id": "c6a1f84a",
   "metadata": {},
   "outputs": [],
   "source": [
    "data2 = data[((data[\"x\"]>5) & (data[\"y\"]>5) & (data[\"z\"]>5))]\n",
    "#data2"
   ]
  },
  {
   "cell_type": "code",
   "execution_count": null,
   "id": "61b0c955",
   "metadata": {},
   "outputs": [],
   "source": [
    "#Reseteo el index\n",
    "data2 = data2.reset_index()\n",
    "data2 = data2.drop(labels=\"index\", axis=1)\n",
    "#data2"
   ]
  },
  {
   "cell_type": "markdown",
   "id": "7859c216",
   "metadata": {},
   "source": [
    "#### 13. Filtrar las filas para que sólo muestren 'carat’ mayor a 0,4 (usar `for x in tarea.carat:…`)"
   ]
  },
  {
   "cell_type": "code",
   "execution_count": null,
   "id": "ea6b6453",
   "metadata": {},
   "outputs": [],
   "source": [
    "data3 = data.copy()\n",
    "\n",
    "for i in range(len(data3)):\n",
    "    if data3.loc[i,'carat'] < 0.4:\n",
    "        data3 = data3.drop(labels=i, axis=0)\n",
    "#data3"
   ]
  },
  {
   "cell_type": "code",
   "execution_count": null,
   "id": "3a134a22",
   "metadata": {},
   "outputs": [],
   "source": [
    "#Es más fácil y rápido hacerlo usando algo parecido a la consigna anterior:\n",
    "data3b = data[data['carat'] >= 0.4]\n",
    "#data3b"
   ]
  },
  {
   "cell_type": "markdown",
   "id": "32f415c0",
   "metadata": {},
   "source": [
    "#### 14. Filtrar filas que son Premium o Ideal (`tarea.cut.sin()` o usar `|`). "
   ]
  },
  {
   "cell_type": "code",
   "execution_count": null,
   "id": "955341e8",
   "metadata": {},
   "outputs": [],
   "source": [
    "data4 = data[((data[\"cut\"] == \"Premium\") | (data[\"cut\"] == \"Ideal\"))]\n",
    "#data4"
   ]
  },
  {
   "cell_type": "markdown",
   "id": "72c9e831",
   "metadata": {},
   "source": [
    "#### 15. Calcular summary statistics de  'carat’ `(.describe)`. "
   ]
  },
  {
   "cell_type": "code",
   "execution_count": null,
   "id": "6b8be892",
   "metadata": {},
   "outputs": [],
   "source": [
    "data[[\"carat\"]].describe()"
   ]
  },
  {
   "cell_type": "markdown",
   "id": "41e1eb9f",
   "metadata": {},
   "source": [
    "#### 16. Calcular la media de cada columna numérica `(.mean())`. "
   ]
  },
  {
   "cell_type": "code",
   "execution_count": null,
   "id": "5b2ba877",
   "metadata": {},
   "outputs": [],
   "source": [
    "#Chequeamos cuáles columnas son numéricas: carat, depth, table, precio, x, y, z\\n\",\n",
    "#data.dtypes\n",
    "\n",
    "#Calculamos la media\n",
    "data[[\"carat\", \"depth\", \"table\", \"precio\", \"x\", \"y\", \"z\"]].mean()"
   ]
  },
  {
   "cell_type": "markdown",
   "id": "62cbcb96",
   "metadata": {},
   "source": [
    "#### 17. Calcular la media del precio de cada tipo de 'cut’ `(tarea.groupby().price.mean())`. "
   ]
  },
  {
   "cell_type": "code",
   "execution_count": null,
   "id": "b615dfff",
   "metadata": {},
   "outputs": [],
   "source": [
    "data.groupby('cut')['precio'].mean()"
   ]
  },
  {
   "cell_type": "markdown",
   "id": "fc5e4691",
   "metadata": {},
   "source": [
    "#### 18. Calcular la cantidad, el mínimo y el máximo precio para cada 'cut’ `(tarea.groupby().price.agg([]))` . "
   ]
  },
  {
   "cell_type": "code",
   "execution_count": null,
   "id": "bd5bf98e",
   "metadata": {},
   "outputs": [],
   "source": [
    "data.groupby('cut')['precio'].agg(['count', 'min', 'max'])"
   ]
  },
  {
   "cell_type": "markdown",
   "id": "fca4cac3",
   "metadata": {},
   "source": [
    "#### 19. Mostrar los valores que puede tomar 'cut’ `(.unique())`. "
   ]
  },
  {
   "cell_type": "code",
   "execution_count": null,
   "id": "49ec1124",
   "metadata": {},
   "outputs": [],
   "source": [
    "data['cut'].unique()"
   ]
  },
  {
   "cell_type": "markdown",
   "id": "e94c5b23",
   "metadata": {},
   "source": [
    "#### 20. Contar cuántas veces aparece cada valor de 'cut’ `(tarea.cut.value_counts())`"
   ]
  },
  {
   "cell_type": "code",
   "execution_count": null,
   "id": "28f6283d",
   "metadata": {},
   "outputs": [],
   "source": [
    "data['cut'].value_counts()"
   ]
  },
  {
   "cell_type": "markdown",
   "id": "5f5e9aca",
   "metadata": {},
   "source": [
    "#### 21. Mostrar los porcentajes de cada valor de 'cut’. "
   ]
  },
  {
   "cell_type": "code",
   "execution_count": null,
   "id": "ae4af5c2",
   "metadata": {},
   "outputs": [],
   "source": [
    "data['cut'].value_counts(normalize=True) * 100"
   ]
  },
  {
   "cell_type": "markdown",
   "id": "5d95819b",
   "metadata": {},
   "source": [
    "#### 22. Calcular una tabla de doble entrada con 'cut’ y 'color’ `(pd.crosstab)`"
   ]
  },
  {
   "cell_type": "code",
   "execution_count": null,
   "id": "61b7af18",
   "metadata": {},
   "outputs": [],
   "source": [
    "pd.crosstab(data.cut, data.color)"
   ]
  },
  {
   "cell_type": "markdown",
   "id": "06266d9a",
   "metadata": {},
   "source": [
    "#### 23. Crear un histograma de ‘cut’ `(.plot(kind=’hist’))`. "
   ]
  },
  {
   "cell_type": "code",
   "execution_count": null,
   "id": "2c7c101e",
   "metadata": {},
   "outputs": [],
   "source": [
    "fig = px.histogram(data, x=\"carat\", histnorm=\"probability\", nbins=10)\n",
    "fig.update_layout(bargap=0.2)\n",
    "fig.show()"
   ]
  },
  {
   "cell_type": "markdown",
   "id": "f6b2f615",
   "metadata": {},
   "source": [
    "#### 24. Crear un gráfico de barras de 'cut' . "
   ]
  },
  {
   "cell_type": "code",
   "execution_count": null,
   "id": "921f740f",
   "metadata": {},
   "outputs": [],
   "source": [
    "data2 = data.groupby(\"cut\").count().reset_index()\n",
    "\n",
    "data2.rename(columns = {\"carat\":\"cantidad\"}, inplace = True)\n",
    "fig = px.bar(data2, x=\"cut\", y=\"cantidad\").update_xaxes(categoryorder = \"total ascending\")\n",
    "fig.show()"
   ]
  },
  {
   "cell_type": "markdown",
   "id": "fa10a32e",
   "metadata": {},
   "source": [
    "#### 25. Contar el número de missing values en cada columna `(.isnull().sum())`. "
   ]
  },
  {
   "cell_type": "code",
   "execution_count": null,
   "id": "9a8c62ca",
   "metadata": {
    "scrolled": true
   },
   "outputs": [],
   "source": [
    "data.isnull().sum()"
   ]
  },
  {
   "cell_type": "markdown",
   "id": "b3ffd0cc",
   "metadata": {},
   "source": [
    "#### 26. Comprobar el número de filas y columnas y eliminarlas si falta algún valor en una fila `(.dropna(how='any'))`."
   ]
  },
  {
   "cell_type": "code",
   "execution_count": null,
   "id": "74d5412c",
   "metadata": {},
   "outputs": [],
   "source": [
    "print('El numero de filas y columnas en la base original es {}'.format(data.shape))\n",
    "\n",
    "data.dropna(how='any')\n",
    "\n",
    "print('El numero de filas y columnas luego de eliminar las que tienen missing values es {}'.\n",
    "      format(data.dropna(how=\"any\").shape))"
   ]
  },
  {
   "cell_type": "markdown",
   "id": "f0cf6e3a",
   "metadata": {},
   "source": [
    "#### 27. Eliminar una fila si faltan todos los valores `((.dropna(how='all'))`. "
   ]
  },
  {
   "cell_type": "code",
   "execution_count": null,
   "id": "f885dc20",
   "metadata": {},
   "outputs": [],
   "source": [
    "data.dropna(how='all') #A ninguna fila le faltan todos los valores, entonces no se elimina ninguna. "
   ]
  },
  {
   "cell_type": "markdown",
   "id": "515ff01a",
   "metadata": {},
   "source": [
    "#### 28. Mostrar las filas 0, 2, 5 y todas las columnas `(.loc[ ])`. "
   ]
  },
  {
   "cell_type": "code",
   "execution_count": null,
   "id": "3bbccdff",
   "metadata": {},
   "outputs": [],
   "source": [
    "data.loc[[0,2,5]]"
   ]
  },
  {
   "cell_type": "markdown",
   "id": "116fcd14",
   "metadata": {},
   "source": [
    "#### 29. Mostrar las filas 0 a 2 (inclusive) y las columnas 'color' y 'precio' . "
   ]
  },
  {
   "cell_type": "code",
   "execution_count": null,
   "id": "04d47a21",
   "metadata": {},
   "outputs": [],
   "source": [
    "data[0:3][[\"color\",\"precio\"]]"
   ]
  },
  {
   "cell_type": "markdown",
   "id": "1fdcb269",
   "metadata": {},
   "source": [
    "#### 30. Mostrar las filas en las que la 'cut' es 'Premium' más la columna 'color'. "
   ]
  },
  {
   "cell_type": "code",
   "execution_count": null,
   "id": "fb1055c7",
   "metadata": {},
   "outputs": [],
   "source": [
    "data[data[\"cut\"] == \"Premium\"][[\"cut\",\"color\"]]"
   ]
  },
  {
   "cell_type": "markdown",
   "id": "1b84146b",
   "metadata": {},
   "source": [
    "#### 31. Obtener 5 filas de muestra al azar `(.sample())`. "
   ]
  },
  {
   "cell_type": "code",
   "execution_count": null,
   "id": "d235ae49",
   "metadata": {},
   "outputs": [],
   "source": [
    "data.sample(5, random_state = 6)"
   ]
  },
  {
   "cell_type": "markdown",
   "id": "ec40b3a1",
   "metadata": {},
   "source": [
    "#### 32. Obtener una muestra del 75% de las filas sin reemplazarlas `(.sample(frac=0.75, random_state=XX))`"
   ]
  },
  {
   "cell_type": "code",
   "execution_count": null,
   "id": "8d0b95f3",
   "metadata": {},
   "outputs": [],
   "source": [
    "data.sample(frac=0.75, random_state = 61)"
   ]
  },
  {
   "cell_type": "markdown",
   "id": "75f77f0d",
   "metadata": {},
   "source": [
    "#### 33. Contar las filas duplicadas."
   ]
  },
  {
   "cell_type": "code",
   "execution_count": null,
   "id": "e662877a",
   "metadata": {},
   "outputs": [],
   "source": [
    "print (\"La cantidad de filas duplicadas es {}.\".format(data.duplicated().sum()))"
   ]
  }
 ],
 "metadata": {
  "kernelspec": {
   "display_name": "Python 3",
   "language": "python",
   "name": "python3"
  },
  "language_info": {
   "codemirror_mode": {
    "name": "ipython",
    "version": 3
   },
   "file_extension": ".py",
   "mimetype": "text/x-python",
   "name": "python",
   "nbconvert_exporter": "python",
   "pygments_lexer": "ipython3",
   "version": "3.8.8"
  }
 },
 "nbformat": 4,
 "nbformat_minor": 5
}
